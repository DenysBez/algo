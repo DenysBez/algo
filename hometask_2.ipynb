{
 "cells": [
  {
   "cell_type": "code",
   "execution_count": 3,
   "id": "c9f438dd-5724-4c59-8207-aa3fff4f71f2",
   "metadata": {},
   "outputs": [],
   "source": [
    "import zipfile\n",
    "import os\n"
   ]
  },
  {
   "cell_type": "code",
   "execution_count": 2,
   "id": "490a986c-f5c5-4992-8e7f-3c59c16362fd",
   "metadata": {},
   "outputs": [],
   "source": [
    "# === 1. Extract the archive with tasks and tests ===\n",
    "zip_path = \"./A01_Счастливые_билеты-1801-057a77.zip\"\n",
    "extract_dir = \"./happy_tickets\"\n"
   ]
  },
  {
   "cell_type": "code",
   "execution_count": 3,
   "id": "c338515c-9a1d-4210-8037-5b2df4fe5447",
   "metadata": {},
   "outputs": [
    {
     "name": "stdout",
     "output_type": "stream",
     "text": [
      "✅ Archive extracted to: ./happy_tickets\n"
     ]
    }
   ],
   "source": [
    "with zipfile.ZipFile(zip_path, 'r') as zip_ref:\n",
    "    zip_ref.extractall(extract_dir)\n",
    "\n",
    "print(\"✅ Archive extracted to:\", extract_dir)\n"
   ]
  },
  {
   "cell_type": "code",
   "execution_count": 4,
   "id": "3283e8b8-58f0-416c-9f05-e8fade320951",
   "metadata": {},
   "outputs": [],
   "source": [
    "# === 2. General solution ===\n",
    "def count_happy_tickets(n: int) -> int:\n",
    "    \"\"\"\n",
    "    Count the number of happy tickets for n-digit tickets.\n",
    "    A ticket is happy if the sum of the first half of digits\n",
    "    equals the sum of the second half.\n",
    "    n must be even.\n",
    "    \"\"\"\n",
    "    half = n // 2\n",
    "    max_sum = 9 * half\n",
    "\n",
    "    dp = [0] * (max_sum + 1)\n",
    "    dp[0] = 1\n",
    "\n",
    "    for _ in range(half):\n",
    "        new_dp = [0] * (max_sum + 1)\n",
    "        for s in range(len(dp)):\n",
    "            if dp[s] > 0:\n",
    "                for d in range(10):\n",
    "                    if s + d <= max_sum:\n",
    "                        new_dp[s + d] += dp[s]\n",
    "        dp = new_dp\n",
    "\n",
    "    return sum(x * x for x in dp)\n"
   ]
  },
  {
   "cell_type": "code",
   "execution_count": 5,
   "id": "60a320ca-98af-4322-b79a-b104dd0d66be",
   "metadata": {},
   "outputs": [],
   "source": [
    "# === 3. Test runner ===\n",
    "def run_tests(test_dir: str):\n",
    "    \"\"\"\n",
    "    Run all tests in given folder.\n",
    "    Input 'n' = number of digits in one half.\n",
    "    So total ticket length = 2 * n.\n",
    "    \"\"\"\n",
    "    test_files = sorted(f for f in os.listdir(test_dir) if f.endswith(\".in\"))\n",
    "    if not test_files:\n",
    "        print(f\"⚠️ No .in files found in {test_dir}\")\n",
    "        return\n",
    "    \n",
    "    passed = 0\n",
    "    total = len(test_files)\n",
    "\n",
    "    for test_file in test_files:\n",
    "        test_path = os.path.join(test_dir, test_file)\n",
    "        with open(test_path, \"r\", encoding=\"utf-8\") as f:\n",
    "            n = int(f.read().strip())\n",
    "\n",
    "        # convert half-length to full ticket length\n",
    "        result = count_happy_tickets(2 * n)\n",
    "\n",
    "        output_file = test_file.replace(\".in\", \".out\")\n",
    "        output_path = os.path.join(test_dir, output_file)\n",
    "        with open(output_path, \"r\", encoding=\"utf-8\") as f:\n",
    "            expected = int(f.read().strip())\n",
    "\n",
    "        if result == expected:\n",
    "            print(f\"Test {test_file}: ✅ OK\")\n",
    "            passed += 1\n",
    "        else:\n",
    "            print(f\"Test {test_file}: ❌ FAIL (got {result}, expected {expected})\")\n",
    "\n",
    "    print(f\"\\nSummary: {passed}/{total} tests passed in {os.path.basename(test_dir)}\")\n",
    "\n"
   ]
  },
  {
   "cell_type": "code",
   "execution_count": 6,
   "id": "22bb7ae6-a023-4014-8b8d-a8b18582e89d",
   "metadata": {},
   "outputs": [
    {
     "name": "stdout",
     "output_type": "stream",
     "text": [
      "\n",
      "=== Running tests for 1.Tickets ===\n",
      "Test test.0.in: ✅ OK\n",
      "Test test.1.in: ✅ OK\n",
      "Test test.2.in: ✅ OK\n",
      "Test test.3.in: ✅ OK\n",
      "Test test.4.in: ✅ OK\n",
      "Test test.5.in: ✅ OK\n",
      "Test test.6.in: ✅ OK\n",
      "Test test.7.in: ✅ OK\n",
      "Test test.8.in: ✅ OK\n",
      "Test test.9.in: ✅ OK\n",
      "\n",
      "Summary: 10/10 tests passed in 1.Tickets\n"
     ]
    }
   ],
   "source": [
    "# === 4. Run for both tasks ===\n",
    "print(\"\\n=== Running tests for 1.Tickets ===\")\n",
    "run_tests(os.path.join(extract_dir, \"1.Tickets\"))\n"
   ]
  }
 ],
 "metadata": {
  "kernelspec": {
   "display_name": "Python 3 (ipykernel)",
   "language": "python",
   "name": "python3"
  },
  "language_info": {
   "codemirror_mode": {
    "name": "ipython",
    "version": 3
   },
   "file_extension": ".py",
   "mimetype": "text/x-python",
   "name": "python",
   "nbconvert_exporter": "python",
   "pygments_lexer": "ipython3",
   "version": "3.12.2"
  }
 },
 "nbformat": 4,
 "nbformat_minor": 5
}
